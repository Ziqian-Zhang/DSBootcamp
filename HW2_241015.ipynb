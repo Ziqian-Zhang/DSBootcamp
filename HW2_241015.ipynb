{
 "cells": [
  {
   "cell_type": "code",
   "execution_count": 1,
   "metadata": {},
   "outputs": [
    {
     "name": "stdout",
     "output_type": "stream",
     "text": [
      "[[1 2]\n",
      " [3 4]\n",
      " [5 6]\n",
      " [1 2]\n",
      " [5 6]\n",
      " [7 8]]\n",
      "[[1 2 1 2]\n",
      " [3 4 5 6]\n",
      " [5 6 7 8]]\n"
     ]
    }
   ],
   "source": [
    "import numpy as np\n",
    "\n",
    "# Define two custom numpy arrays A and B\n",
    "A = np.array([[1, 2], [3, 4], [5, 6]])\n",
    "B = np.array([[1, 2], [5, 6], [7, 8]])\n",
    "\n",
    "# Stack vertically\n",
    "stacked_vertical = np.vstack((A, B))\n",
    "\n",
    "# Stack horizontally\n",
    "stacked_horizontal = np.hstack((A, B))\n",
    "\n",
    "print(stacked_vertical)\n",
    "print(stacked_horizontal)"
   ]
  },
  {
   "cell_type": "code",
   "execution_count": 2,
   "metadata": {},
   "outputs": [
    {
     "name": "stdout",
     "output_type": "stream",
     "text": [
      "[1 2 5 6]\n"
     ]
    }
   ],
   "source": [
    "# Find intersection of A and B\n",
    "common_elements = np.intersect1d(A, B)\n",
    "print(common_elements)"
   ]
  },
  {
   "cell_type": "code",
   "execution_count": 3,
   "metadata": {},
   "outputs": [
    {
     "name": "stdout",
     "output_type": "stream",
     "text": [
      "[5 6]\n"
     ]
    }
   ],
   "source": [
    "numbers_in_range = A[(A >= 5) & (A <= 10)]\n",
    "print(numbers_in_range)"
   ]
  },
  {
   "cell_type": "code",
   "execution_count": 4,
   "metadata": {},
   "outputs": [
    {
     "name": "stdout",
     "output_type": "stream",
     "text": [
      "[[4.8 3.4 1.6 0.2]\n",
      " [4.8 3.4 1.9 0.2]\n",
      " [4.7 3.2 1.6 0.2]\n",
      " [4.8 3.1 1.6 0.2]\n",
      " [4.9 2.4 3.3 1. ]\n",
      " [4.9 2.5 4.5 1.7]]\n"
     ]
    }
   ],
   "source": [
    "import urllib.request\n",
    "\n",
    "url = 'https://archive.ics.uci.edu/ml/machine-learning-databases/iris/iris.data'\n",
    "response = urllib.request.urlopen(url)\n",
    "\n",
    "# Read the data using np.genfromtxt\n",
    "iris_2d = np.genfromtxt(response, delimiter=',', dtype='float', usecols=[0, 1, 2, 3])\n",
    "\n",
    "# Filter rows where petallength > 1.5 and sepallength < 5.0\n",
    "filtered_rows = iris_2d[(iris_2d[:, 2] > 1.5) & (iris_2d[:, 0] < 5.0)]\n",
    "\n",
    "print(filtered_rows)"
   ]
  },
  {
   "cell_type": "code",
   "execution_count": 5,
   "metadata": {},
   "outputs": [
    {
     "name": "stdout",
     "output_type": "stream",
     "text": [
      "   Manufacturer    Model     Type\n",
      "0         Acura  Integra    Small\n",
      "20     Chrysler  LeBaron  Compact\n",
      "40        Honda  Prelude   Sporty\n",
      "60      Mercury   Cougar  Midsize\n",
      "80       Subaru   Loyale    Small\n"
     ]
    }
   ],
   "source": [
    "import pandas as pd\n",
    "\n",
    "# Load the Cars93 dataset\n",
    "df = pd.read_csv('https://raw.githubusercontent.com/selva86/datasets/master/Cars93_miss.csv')\n",
    "\n",
    "# Filter every 20th row starting from the first\n",
    "filtered_rows = df.loc[::20, ['Manufacturer', 'Model', 'Type']]\n",
    "\n",
    "print(filtered_rows)"
   ]
  },
  {
   "cell_type": "code",
   "execution_count": 6,
   "metadata": {},
   "outputs": [
    {
     "name": "stdout",
     "output_type": "stream",
     "text": [
      "    Min.Price  Max.Price\n",
      "0   12.900000  18.800000\n",
      "1   29.200000  38.700000\n",
      "2   25.900000  32.300000\n",
      "3   17.118605  44.600000\n",
      "4   17.118605  21.459091\n",
      "..        ...        ...\n",
      "88  16.600000  22.700000\n",
      "89  17.600000  22.400000\n",
      "90  22.900000  23.700000\n",
      "91  21.800000  23.500000\n",
      "92  24.800000  28.500000\n",
      "\n",
      "[93 rows x 2 columns]\n"
     ]
    }
   ],
   "source": [
    "# Replace missing values in Min.Price and Max.Price columns with column means\n",
    "df['Min.Price'].fillna(df['Min.Price'].mean(), inplace=True)\n",
    "df['Max.Price'].fillna(df['Max.Price'].mean(), inplace=True)\n",
    "\n",
    "print(df[['Min.Price', 'Max.Price']])"
   ]
  },
  {
   "cell_type": "code",
   "execution_count": 7,
   "metadata": {},
   "outputs": [
    {
     "name": "stdout",
     "output_type": "stream",
     "text": [
      "     0   1   2   3\n",
      "0   39  34  33  35\n",
      "1   30  32  39  17\n",
      "2   23  27  37  36\n",
      "3   31  37  23  30\n",
      "4   15  28  34  28\n",
      "9   39  18  37  11\n",
      "13  22  32  26  34\n",
      "14  37  13  37  23\n"
     ]
    }
   ],
   "source": [
    "# Generate a DataFrame\n",
    "df = pd.DataFrame(np.random.randint(10, 40, 60).reshape(-1, 4))\n",
    "\n",
    "# Get rows with row sum greater than 100\n",
    "rows_with_sum_gt_100 = df[df.sum(axis=1) > 100]\n",
    "\n",
    "print(rows_with_sum_gt_100)"
   ]
  }
 ],
 "metadata": {
  "kernelspec": {
   "display_name": "base",
   "language": "python",
   "name": "python3"
  },
  "language_info": {
   "codemirror_mode": {
    "name": "ipython",
    "version": 3
   },
   "file_extension": ".py",
   "mimetype": "text/x-python",
   "name": "python",
   "nbconvert_exporter": "python",
   "pygments_lexer": "ipython3",
   "version": "3.9.19"
  }
 },
 "nbformat": 4,
 "nbformat_minor": 2
}
